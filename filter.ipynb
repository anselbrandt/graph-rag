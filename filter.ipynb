{
 "cells": [
  {
   "cell_type": "code",
   "execution_count": 1,
   "metadata": {},
   "outputs": [],
   "source": [
    "from pathlib import Path\n",
    "\n",
    "files = [\n",
    "    file\n",
    "    for file in Path(\"files/rotl\").iterdir()\n",
    "    if \".txt\" in file.name\n",
    "    if \"Ariella\" in open(file, \"r\").read()\n",
    "]\n",
    "\n",
    "data_dir = Path(\"data\")\n",
    "data_dir.mkdir(exist_ok=True)\n",
    "\n",
    "for file in files:\n",
    "    new_path = data_dir / file.name\n",
    "    transcript = open(file, \"r\").read().split(\"\\n\\n\")\n",
    "    with open(new_path, \"w\") as f:\n",
    "        f.write(\"\\n\".join(transcript))"
   ]
  }
 ],
 "metadata": {
  "kernelspec": {
   "display_name": ".venv",
   "language": "python",
   "name": "python3"
  },
  "language_info": {
   "codemirror_mode": {
    "name": "ipython",
    "version": 3
   },
   "file_extension": ".py",
   "mimetype": "text/x-python",
   "name": "python",
   "nbconvert_exporter": "python",
   "pygments_lexer": "ipython3",
   "version": "3.12.8"
  }
 },
 "nbformat": 4,
 "nbformat_minor": 2
}
