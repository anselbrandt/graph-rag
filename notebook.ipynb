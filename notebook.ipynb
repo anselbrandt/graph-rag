{
 "cells": [
  {
   "cell_type": "code",
   "execution_count": 2,
   "metadata": {},
   "outputs": [],
   "source": [
    "from glirel import GLiREL\n",
    "import spacy\n",
    "\n",
    "model = GLiREL.from_pretrained(\"jackboyla/glirel-large-v0\")\n",
    "\n",
    "nlp = spacy.load(\"en_core_web_sm\")"
   ]
  },
  {
   "cell_type": "code",
   "execution_count": 3,
   "metadata": {},
   "outputs": [
    {
     "name": "stdout",
     "output_type": "stream",
     "text": [
      "Number of relations: 2\n"
     ]
    }
   ],
   "source": [
    "text = 'Derren Nesbitt had a history of being cast in \"Doctor Who\", having played villainous warlord Tegana in the 1964 First Doctor serial \"Marco Polo\".'\n",
    "doc = nlp(text)\n",
    "tokens = [token.text for token in doc]\n",
    "\n",
    "labels = [\n",
    "    \"country of origin\",\n",
    "    \"licensed to broadcast to\",\n",
    "    \"father\",\n",
    "    \"followed by\",\n",
    "    \"characters\",\n",
    "]\n",
    "\n",
    "ner = [\n",
    "    [26, 27, \"PERSON\", \"Marco Polo\"],\n",
    "    [22, 23, \"Q2989412\", \"First Doctor\"],\n",
    "]  # 'type' is not used -- it can be any string!\n",
    "\n",
    "relations = model.predict_relations(tokens, labels, threshold=0.0, ner=ner, top_k=1)\n",
    "\n",
    "print(\"Number of relations:\", len(relations))"
   ]
  },
  {
   "cell_type": "code",
   "execution_count": 4,
   "metadata": {},
   "outputs": [
    {
     "name": "stdout",
     "output_type": "stream",
     "text": [
      "\n",
      "Descending Order by Score:\n",
      "['First', 'Doctor'] --> followed by --> ['Marco', 'Polo'] | score: 0.002801130758598447\n",
      "['Marco', 'Polo'] --> followed by --> ['First', 'Doctor'] | score: 0.0027414148207753897\n"
     ]
    }
   ],
   "source": [
    "sorted_data_desc = sorted(relations, key=lambda x: x[\"score\"], reverse=True)\n",
    "print(\"\\nDescending Order by Score:\")\n",
    "for item in sorted_data_desc:\n",
    "    print(\n",
    "        f\"{item['head_text']} --> {item['label']} --> {item['tail_text']} | score: {item['score']}\"\n",
    "    )"
   ]
  }
 ],
 "metadata": {
  "kernelspec": {
   "display_name": ".venv",
   "language": "python",
   "name": "python3"
  },
  "language_info": {
   "codemirror_mode": {
    "name": "ipython",
    "version": 3
   },
   "file_extension": ".py",
   "mimetype": "text/x-python",
   "name": "python",
   "nbconvert_exporter": "python",
   "pygments_lexer": "ipython3",
   "version": "3.12.8"
  }
 },
 "nbformat": 4,
 "nbformat_minor": 2
}
